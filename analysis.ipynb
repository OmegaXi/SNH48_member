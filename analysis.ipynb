{
 "cells": [
  {
   "cell_type": "code",
   "execution_count": 2,
   "metadata": {
    "collapsed": true
   },
   "outputs": [],
   "source": [
    "import numpy as np\n",
    "import pandas as pd\n",
    "import matplotlib.pyplot as plt\n",
    "\n",
    "#%matplotlib inline "
   ]
  },
  {
   "cell_type": "code",
   "execution_count": 3,
   "metadata": {
    "collapsed": false
   },
   "outputs": [],
   "source": [
    "group = pd.read_excel('/Users/thesuguser/Desktop/Personal_project/SNH48_member/Data/SNH48group.xlsx')\n",
    "snh = pd.read_excel('/Users/thesuguser/Desktop/Personal_project/SNH48_member/Data/SNH48.xlsx')\n",
    "gnz = pd.read_excel('/Users/thesuguser/Desktop/Personal_project/SNH48_member/Data/GNZ48.xlsx')\n",
    "bej = pd.read_excel('/Users/thesuguser/Desktop/Personal_project/SNH48_member/Data/BEJ48.xlsx')\n",
    "shy = pd.read_excel('/Users/thesuguser/Desktop/Personal_project/SNH48_member/Data/SHY48.xlsx')"
   ]
  },
  {
   "cell_type": "code",
   "execution_count": 12,
   "metadata": {
    "collapsed": false
   },
   "outputs": [
    {
     "data": {
      "text/plain": [
       "Index(['姓名', '昵称', '队伍', '加入时间', '身高', '生日', '星座', '出生地', '特长', '爱好', '经历',\n",
       "       'catch_phrase', '血型'],\n",
       "      dtype='object')"
      ]
     },
     "execution_count": 12,
     "metadata": {},
     "output_type": "execute_result"
    }
   ],
   "source": [
    "group.columns"
   ]
  },
  {
   "cell_type": "code",
   "execution_count": 22,
   "metadata": {
    "collapsed": false
   },
   "outputs": [
    {
     "name": "stdout",
     "output_type": "stream",
     "text": [
      "The average height of SNH48 Group is 164.160256\n",
      "The average height of SNH48 is 165.008621\n",
      "The average height of GNZ48 is 163.558442\n",
      "The average height of BEJ48 is 163.069444\n",
      "The average height of SHY48 is 164.723404\n"
     ]
    }
   ],
   "source": [
    "print('The average height of SNH48 Group is %f'%group['身高'].mean())\n",
    "print('The average height of SNH48 is %f'%snh['身高'].mean())\n",
    "print('The average height of GNZ48 is %f'%gnz['身高'].mean())\n",
    "print('The average height of BEJ48 is %f'%bej['身高'].mean())\n",
    "print('The average height of SHY48 is %f'%shy['身高'].mean())"
   ]
  },
  {
   "cell_type": "code",
   "execution_count": 44,
   "metadata": {
    "collapsed": false
   },
   "outputs": [
    {
     "name": "stdout",
     "output_type": "stream",
     "text": [
      "The highest girl in the group is 姜涵 whose height is 176.000000\n"
     ]
    }
   ],
   "source": [
    "highest_index = group['身高'].idxmax()\n",
    "print('The highest girl in the group is %s whose height is %f'%(group['姓名'][highest_index],group['身高'].max())"
   ]
  },
  {
   "cell_type": "code",
   "execution_count": 40,
   "metadata": {
    "collapsed": false
   },
   "outputs": [
    {
     "name": "stdout",
     "output_type": "stream",
     "text": [
      "The shortest girl in the group is 卢静 whose height is 155.000000\n"
     ]
    }
   ],
   "source": [
    "shortest_index = group['身高'].idxmin()\n",
    "print('The shortest girl in the group is %s whose height is %f'%(group['姓名'][shortest_index],group['身高'].min()))"
   ]
  },
  {
   "cell_type": "code",
   "execution_count": 73,
   "metadata": {
    "collapsed": false
   },
   "outputs": [
    {
     "data": {
      "text/plain": [
       "<matplotlib.axes._subplots.AxesSubplot at 0x10d3bbb38>"
      ]
     },
     "execution_count": 73,
     "metadata": {},
     "output_type": "execute_result"
    },
    {
     "data": {
      "image/png": "[encoded data removed]",
      "text/plain": [
       "<matplotlib.figure.Figure at 0x11539cdd8>"
      ]
     },
     "metadata": {},
     "output_type": "display_data"
    }
   ],
   "source": [
    "group['血型'].value_counts().plot(kind='pie')"
   ]
  },
  {
   "cell_type": "code",
   "execution_count": 78,
   "metadata": {
    "collapsed": false
   },
   "outputs": [
    {
     "data": {
      "text/plain": [
       "处女座    33\n",
       "双子座    32\n",
       "射手座    28\n",
       "天秤座    28\n",
       "巨蟹座    26\n",
       "狮子座    26\n",
       "金牛座    25\n",
       "水瓶座    24\n",
       "天蝎座    24\n",
       "双鱼座    23\n",
       "白羊座    22\n",
       "摩羯座    21\n",
       "Name: 星座, dtype: int64"
      ]
     },
     "execution_count": 78,
     "metadata": {},
     "output_type": "execute_result"
    }
   ],
   "source": [
    "group['星座'].value_counts()#.plot('bar')"
   ]
  },
  {
   "cell_type": "code",
   "execution_count": 77,
   "metadata": {
    "collapsed": false
   },
   "outputs": [
    {
     "data": {
      "text/plain": [
       "中国 四川    35\n",
       "中国 广东    28\n",
       "中国 辽宁    27\n",
       "中国 上海    25\n",
       "中国 浙江    24\n",
       "中国 湖南    21\n",
       "中国 江苏    19\n",
       "中国 湖北    15\n",
       "中国 山东    12\n",
       "中国 河南    11\n",
       "中国 安徽    11\n",
       "中国 北京    11\n",
       "中国 重庆     9\n",
       "中国 福建     8\n",
       "中国 黑龙     7\n",
       "中国 江西     6\n",
       "中国 贵州     6\n",
       "中国 陕西     6\n",
       "中国 河北     5\n",
       "中国 云南     4\n",
       "中国 广西     3\n",
       "中国 内蒙     3\n",
       "中国 海南     2\n",
       "中国 甘肃     2\n",
       "中国 新疆     2\n",
       "中国 吉林     2\n",
       "中国 山西     2\n",
       "中国 台湾     2\n",
       "中国        1\n",
       "中国 香港     1\n",
       "中国 天津     1\n",
       "中国 青海     1\n",
       "Name: 出生地, dtype: int64"
      ]
     },
     "execution_count": 77,
     "metadata": {},
     "output_type": "execute_result"
    }
   ],
   "source": [
    "home_name = []\n",
    "for i in group['出生地']:\n",
    "    if len(i)>=6:\n",
    "        i = i[0:5]\n",
    "    home_name.append(i)\n",
    "group['出生地'] = home_name\n",
    "\n",
    "group['出生地'].value_counts()"
   ]
  },
  {
   "cell_type": "code",
   "execution_count": 99,
   "metadata": {
    "collapsed": false
   },
   "outputs": [],
   "source": [
    "skill = ''\n",
    "for i in group['特长']:\n",
    "    skill += i\n",
    "    skill += '、'"
   ]
  },
  {
   "cell_type": "code",
   "execution_count": 86,
   "metadata": {
    "collapsed": false
   },
   "outputs": [
    {
     "name": "stderr",
     "output_type": "stream",
     "text": [
      "Building prefix dict from the default dictionary ...\n",
      "DEBUG:jieba:Building prefix dict from the default dictionary ...\n",
      "Dumping model to file cache /var/folders/s4/7smrnmw53nj9239g71sw7_lc0000gn/T/jieba.cache\n",
      "DEBUG:jieba:Dumping model to file cache /var/folders/s4/7smrnmw53nj9239g71sw7_lc0000gn/T/jieba.cache\n",
      "Loading model cost 1.464 seconds.\n",
      "DEBUG:jieba:Loading model cost 1.464 seconds.\n",
      "Prefix dict has been built succesfully.\n",
      "DEBUG:jieba:Prefix dict has been built succesfully.\n"
     ]
    },
    {
     "data": {
      "text/plain": [
       "'爵士鼓、、、跳舞、、、绘画、，、网游、、、看、动漫、、、做、美食、、、和、朋友、一起、逛街、、、看、动漫、、、美甲、、、逛街、、、唱歌、、、剪辑、、、坐、过山车、、、逛街、、、唱歌、、、尝试、新鲜、事物、、、模仿、、、自言自语、、、观察、人类、、、wota、艺、、、吉他、、、动漫、、、看书、、、破案、、、美食、、、cosplay、、、看、动漫、、、玩游戏、、、舞蹈、、、逛街、、、旅游、、、赚钱、、、看、电影、、、跳舞、、、唱歌、、、拍照、、、吃、、、电竞、、、舞蹈、、、唱歌、、、画画、、、日剧、、、足球、、、摇滚、、、悬疑、电影、、、美食、、、唱歌、、、跳舞、、、小、动物、、、画、插画、、、唱歌、、、读书、、、手工、、、看、电影、、、时尚、、、游戏、、、电竞、、、吃、、、模仿、、、听、各种、风格、的、歌、、、看、各种、风格、的、书、、、弹琴、、、看、动漫、、、睡觉、、、编曲、、、动漫、、、日剧、、、翻唱、、、cosplay、、、宅舞、、、看书、、、看、电影、、、想、事情、、、唱歌、、、美食、、、看、电影、、、唱歌、、、吃、田螺、、、掌机、、、高、达、、、拆、家电、、、烘焙、、、写作、、、看书、、、看、电影、、、逛街、、、吃、吃、吃、、、唰、、、手机、玩具、（、妖怪、手表、）、、、茶饮料、、、小、紫苏、、、扔、飞镖、、、看、电影、、、发呆、、、跳舞、、、发呆、、、画画、、、滑旱冰、、、睡觉、、、写、曲子、、、cosplay、、、看书、、、吃、东西、、、音乐、、、旅游、、、摄影、、、美食、、、话剧、、、吃、美食、、、看、电影、、、购物、、、唱歌、、、跳舞、、、LOL、、、动漫、、、游戏、、、收集、lo、装、、、日剧、、、漫画、、、晒、阳光、、、唱歌、、、写字、、、编、头发、、、吃水果、、、辣、、、唱歌、、、宅舞、、、电吉他、、、创作、、、吃、、、舞蹈、、、动漫、、、摄影、、、音乐、、、古筝、、、宅舞、、、爵士、、、lolita、洋装、、、音乐、、、影视、、、摄影、、、文学、、、日剧、、、漫画、、、宅舞、、、动漫、、、游戏、、、跳舞、、、赛车、、、恐怖片、、、喜剧片、、、阅读、、、躺、着、打、王者、荣耀、吃、外卖、、、看书、、、旅行、、、唱歌、、、看、古装剧、、、阅读、、、发呆、、、旅行、、、养、宠物、、、舞蹈、、、收藏、、、汉服、、、lolita、、、模型、、、melody、、、动漫、、、看书、、、可爱、的、东西、、、看美剧、、、打、排球、、、烹饪、、、HelloKitty、控、、、吃、东西、、、逛街、、、唱歌、、、看书、、、放空、、、画画、、、游戏、、、ACG、、、COSPLAY、、、摄影、、、宅舞、、、画画、、、阅读、、、看、电影、、、吃、甜品、、、发呆、、、跳舞、、、吃、面包、、、吉他、、、看、电影、、、美食、、、收集、文具、、、DIY、、、高、达、、、烹饪、、、看剧、、、听戏、、、游泳、、、看、拳击、比赛、、、吃、、、跳舞、、、听歌、、、睡觉、、、-、、、声乐、、、滑板、、、电竞、、、做、甜品、、、配音、、、搞笑、、、运动、、、看、动漫、、、看、小说、、、偶像、研究、、、搜集、美食、、、看、动画电影、、、电竞、、、acg、、、日语、、、日剧、、、听歌、、、动漫、、、唱歌、、、跳舞、、、表演、、、爵士舞、、、宅舞、、、美食、、、运动、、、旅游、、、看、电影、、、吃、巧克力、、、录歌、、、单机游戏、、、画画、、、看美剧、、、动漫、、、美食、、、旅游、、、各种、网游、、、做、甜点、、、游戏、、、动漫、、、游戏、实况、解说、、、看、搞笑、视频、、、看、电影、、、旅游、、、追番、、、宅舞、、、恐怖片、、、Cosplay、、、唱歌、、、昆曲、、、旅游、、、追剧、、、动漫、、、日剧、、、茶道、、、弓道、、、电影、、、摄影、、、电影、、、滑板、、、hip、 、pop、、、日语、、、lolita、、、动漫、、、LOL、、、做、各种、好吃、的、、、整理、、、吃、、、听、音乐、、、交朋友、、、听、轻音乐、、、跳舞、、、表演、、、睡觉、、、吃、、、日剧、、、动漫、、、手工、、、唱歌、、、跳舞、、、看书、、、动漫、、、拉丁、、、芭蕾、、、啦、啦、操、、、钢琴、、、创作、、、美食、、、吉他、、、看、电影、、、画画、、、ACG、、、合气道、、、V、家曲、、、LOL、、、电吉他、、、恐怖、游戏、实况、、、收拾、房间、、、看、游戏、、、打游戏、、、动漫、、、舞蹈、、、唱歌、、、脑补、、、ACG、、、宅舞、、、唱歌、、、跳舞、、、看书、、、追、日剧、和、动漫、、、吃、、、动漫、、、游戏、、、跆拳道、、、吃、、、钢琴、、、看、动漫、、、讲、段子、、、自制、微、电影、、、唱歌、、、跳舞、、、弹、吉他、、、配音、、、讲、段子、、、做、甜品、、、吃、、、表演、、、手工、、、素描、、、摄影、、、钓鱼、、、做、甜点、、、听、音乐、、、学、舞蹈、、、看、恐怖、悬疑、小说、电影、、、吃、甜品、、、画画、、、吐槽、、、看、电影、、、看、动漫、、、唱歌、、、吃、肉、、、发呆、、、大笑、、、舞蹈、、、运动、、、旅游、、、做、甜品、、、cosplay、、、汉服、、、跳舞、、、逛、沙龙、、、香水、、、看书、、、旅游、、、幻想、、、做饭、、、手账、.、、、跳舞、、、看、小说、、、追剧、、、吃、、、旅游、、、电影、、、打、电动、、、吃、吃、吃、、、动漫、、、柯南控、、、唱歌、、、跳舞、、、看、小说、、、整理、东西、、、动漫、，、cosplay、,、宅舞、，、吃、吃、吃、!、、、编织、世界、，、表演、、、养生、、、动漫、、、运动、、、收集、奇怪、的、东西、、、唱歌、、、歌曲、创作、、、弹琴、、、摄影、、、健身、、、美妆、、、ACG、、、Cosplay、、、吃、辣、、、对、镜子、笑、、、读书、，、探索、宇宙、和、外星人、，、思考、人生、，、跳舞、、、ACG、、、绘画、、、烹饪、、、古着、、、逛、淘宝、、、心理学、、、看、侦探小说、、、听、音乐、、、打篮球、、、吃、辣、、、翻唱、、、宅舞、、、打游戏、、、吃、肉、、、表演、、、唱歌、、、睡觉、、、宅舞、、、榴莲、披萨、、、武术、、、爵士、、、运动、、、动漫、、、游戏、、、看、电影、、、吃零食、、、ACG、、、cosplay、、、宅舞、、、玩、魔方、、、跳舞、、、ACG、、、Cosplay、、、喜欢、古典、的、东西、、、唱歌、，、打游戏、，、吃、东西、、、宅舞、、、搓麻、将、、、打扫、、、少女、漫、、、宅、、、舞蹈、、、撩妹、、、套路、、、唱歌、、、吃、麻辣烫、、、书法、、、尤、克里、里、、、琵琶、、、绘画、、、吐槽、、、连连看、、、古筝、、、汉服、、、游泳、、、追、日剧、、、宅舞、、、少女、漫、、、喝、可乐、、、穿、小、裙子、 、、、收集、可爱、的、东西、、、诗词歌赋、、、琴棋书画、、、喵、星人、、、Cosplay、、、看、游戏、实况、、、球赛、、、日语、、、看球赛、、、写作、、、桌游、、、动漫、、、手游、、、看、小说、、、节奏、狂人、、、跳舞、、、看、电影、、、ACG、、、拍照、、、恐怖片、、、买、袜子、、、讲、冷笑、话、、、ACG、、、听相声、、、旅行、、、美食、、、仿妆、、、看、美女、、、旅行、、、美食、、、吃、辣、、、可爱、的、女孩子、、、逛街、、、看、电影、、、旅游、、、电台、、、coffeebar、、、旅行、、、跳舞、，、看、小说、，、玩、摩尔、庄园、，、睡觉、，、做梦、、、旅行、、、养、宠物、、、吃、、、ACG、、、JK、制服、控、、、收集、手办、、、Cosplay、、、养、仓鼠、、、ACG、、、舞蹈、、、森系、、、偶像、鉴赏、、、电竞、、、跆拳道、、、ACG、、、舞蹈、、、看、电影、、、宅舞、、、看书、、、diy、、、美食、、、电影、、、文学、、、夜宵、、、影视、新闻、、、汉、文化、、、考古、收藏、、、读书、、、一个、人、逛、吃、、、看、日剧、、、翻唱、、、星座、塔罗、占卜、、、古典、乐、、、吉他、、、滑板、、、扮靓、、、ACG、、、听、音乐、、、旅游、、、睡觉、、、玩游戏、、、DIY、、、看、动漫、、、COS、、、摄影、、、旅游、、、做梦、、、吃、辣、、、追星、、、唱歌、、、看吃播、、、看、小说、、、剁、手、、、COS、、、打游戏、、、减肥、、、喝、可乐、、、傻笑、、、喜欢、猫、和、狗、、、听歌、 、、、看、电影、、、旅游、、、收集、表情、包、 、、、DIY、甜品、和、蛋糕、、、养小、动物、、、搞笑、、、喜欢、哈士奇、、、看、and、模仿、鬼畜、视频、、、美食、、、玩游戏、、、游泳、、、摄影、、、模仿、、、抓、娃娃、、、养、宠物、、、坐、过山车、、、躺、着、、、美食、、、跳舞、、、笑、、、听、音乐、、、睡觉、、、打游戏、、、古风、、、宅舞、、、相声、、、哲学、、、讲川普、、、听、音乐、、、吃火锅、、、打麻将、、、旅游、、、逛街、、、吃、、、挑战、刺激、的、运动、，、酷酷、的、东东、、、考古、、、听、广播、、、美食、、、烹饪、、、看、动漫、、、旅行、、、听相声、、、旅游、、、睡觉、、、嘻哈、、、吉他、、、吃、、、写作、、、看、小说、、、旅游、、、吃、东西、、、养、宠物、、、旅游、、、聚会、、、舞台、表演、、、追剧、和、电影、、、舞蹈、、、Eat、、、摄影、、、旅游、、、发呆、、、运动、、、看书、、、整理、、、追剧、、、吃、、、睡觉、、、打、架子鼓、、、追剧、、、画画、表演、cosplay、、、收集、枪、和、玩偶、、、做手、帐、、、做、数学题、、、舞蹈、、、舞蹈、、、学、韩语、、、追星、、、吃、东西、、、吃、、、看、动漫、、、打游戏、、、唱歌、、、跳舞、、、刷牙、、、囤、肥皂、、、中医、、、看书、、、ACG、、、旅行、、、搖滾、、、Cosplay、、、ACG、、、日系、、、银魂、、、旅游、、、宅、、、听歌、唱歌、、、练舞、 、看、别人、练舞、 、打游戏、、、跳高、、、羽毛球、、、看、电影、、、旅游、 、听、音乐、 、看、电影、、、打游戏、 、听、音乐、 、看、小说、 、旅游、、、跳舞、 、 、游戏、 、 、看书、 、 、收拾、东西、、、摄影、 、美食、 、舞蹈、 、烹饪、、、听歌、，、假面、骑士、，、jojo、的、奇妙、冒险、，、可爱、的、东西、，、收集、小豆、狸、玩偶、，、胖、鸽子、、、唱歌、、、健身、 、唱、k、 、旅游、 、养生、 、游乐园、、、唱歌、 、看、电影、 、运动、 、古筝、 、旅行、、、表演、、、跳舞、、、笑、、、唱歌、、、玩、4399、小游戏、、、唱歌、、、吃、东西、、、旅游、、、买、东西、、、韩语、、、羽毛球、、、吃火锅、、、宅舞、、、画画、、、煎、鸡蛋、、、尤、克里、里、、、动漫、 、 、睡觉、 、 、滑冰、 、 、爵士舞、、、写、文字、，、旅游、，、跳舞、、、台球、 、游泳、、、唱歌、 、跳舞、 、动漫、 、 、小说、、、表演、 、 、简笔、、、Cosplay、，、逛街、，、看、日剧、、、吃、东西、、、看、电影、 、摄影、 、听、音乐、 、睡觉、 、吃、甜食、、、旅行、 、看、电影、、、摇滚、、、画画、 、 、运动、 、烹饪、 、逛、超市、、、绘画、 、 、cosplay、 、 、宅舞、、、看、电影、 、唱歌、 、跳舞、 、游泳、、、动漫、 、 、电吉他、、、跳舞、 、看书、、、表情、包、 、 、睡觉、 、 、吃、东西、、、看、电影、 、养狗、 、动漫、、、打游戏、 、买买、买、、、摄影、 、 、做饭、 、 、看、电影、、、ACG、 、 、刻、橡皮、章、 、 、看书、、、听歌、 、画画、 、看、电影、 、料理、 、手工、制作、、、只要、跟、水、有关、的、活动、都、喜欢、、、吃、加糖、的、麻辣烫、、、听、音乐、 、看、电影、 、唱歌、 、跳舞、 、吃、、、写字、 、手工、DIY、 、去、有、沙滩、的、海、、、喜剧、 、表演、 、柯南、 、剁、手、 、逛、吃、逛、吃、、、唱歌、 、跳舞、 、逛街、 、美食、 、表演、、、唱歌、 、玩、手机、 、吃面、、、手工、，、颜艺、、、小品、、、玩、空竹、 、捏、黏土、、、打游戏、 、吃、、、写歌、 、唱歌、 、汉服、 、韩舞、、、看、漫画、 、听、音乐、、、画画、 、舞蹈、 、音乐、、、板绘、，、看、动漫、，、宅舞、，、好看、的、女孩子、、、舞蹈、 、汉服、 、看、动漫、 、买、衣服、、、吃、东西、、、跳舞、 、逗猫、 、配音、、、日剧、 、音游、 、看书、 、美食、、、听歌、、、唱歌、、、觅食、、、宠物、、、综艺、、、放空、、、北方、菜、 、 、拆、快递、 、 、森系、 、表演、、、唱歌跳舞、 、看、电影、 、吃火锅、 、小、动物、、、舞蹈、 、古筝、、、逛街、、、吃、辣、、、火锅、、、粉红、控、、、唱歌、 、钢琴、 、吃火锅、、、写歌、、、看、动漫、、、看、电影、、、唱歌、、、看、动漫、 、 、 、听、音乐、 、 、 、睡觉、、、旅游、 、听、音乐、、、逛街、 、 、吃、东西、 、 、看、电影、、、爱好、广泛、 、从、三次、元到、二次元、 、cosplay、 、lolita、 、看、电影、 、篮球、 、画画、 、吃、 、追番、、、二次元、有关、的、一切、 、研究、料理、、、睡觉、 、音乐、 、看书、 、跳舞、、、打游戏、 、吃零食、 、看、韩剧、、、动漫、、、看美剧、、、日剧、、、打游戏、和、看、人、打游戏、、、制作、表情、包、、、宅舞、、、晒太阳、、、电子、控、、、玩游戏、、、技术、宅、、、跳舞、、、调酒、、、茶艺、、、插花、、、玩游戏、、、逛街、、、电影、、、唱歌跳舞、、、跳舞、、、手游、、、看、电影、、、旅行、、、旅游、、、听、音乐、、、跳舞、、、逛街、、、旅游、、、听、音乐、、、跳舞、、、看、小说、、、玩手、游、、、听、音乐、、、听歌、、、弹、吉他、、、尤、克里、里、、、睡觉、、、漫画、、、音乐、、、电影、、、宠物、、、日剧、、、吉他、、、摄影、、、旅行、、、当、志愿者、、、lol、、、音乐、、、cosplay、、、打游戏、、、听、音乐、、、看书、、、打游戏、、、看、电影、、、滑板、、、架子鼓、、、动漫、、、小说、、、唱歌、、、跳舞、、、旅游、、、看、电影、、、睡觉、、、吃水果、、、游戏、、、宅舞、、、动漫、、、手工、、、爵士舞、、、相声、、、喜剧、、、cosplay、、、短期、旅行、 、 、吃、糖醋排骨、、、弹、古筝、、、写作、、、阅读、、、听、音乐、、、看、娱乐、新闻、、、学习、占星、和、推运、、、化妆、、、唱歌、、、塔罗牌、 、魔方、 、听歌、 、摄影、 、写、小说、、、旅游、，、看书、，、收集、独特、的、物品、、、绘画、、、大提琴、、、骑马、 、烘焙、 、cosplay、 、打麻将、、、喜欢、逛街、 、吃火锅、 、 、 、和、朋友、一起、跳舞、、、吃零食、 、打游戏、 、睡觉、、、吉他、 、 、美食、 、 、DIY、、、宅舞、 、发呆、、、舞蹈、、、表演、、、摄影、、、调色、、、电竞、 、 、体育、 、 、唱歌、、、rap、、、吉他、、、cosplay、、、摄影、、、摄影、 、汉服、 、cos、 、手作、、、小提琴、，、旅游、，、麻雀、，、烘焙、、、偶像、，、手作、，、发呆、、、撸、各种、妆容、，、誓死、不变、衷心、看、蜡笔小新、、、尤、克里、里、、、瑜伽、、、讲、笑话、、、宅舞、、、cosplay、、、睡觉、、、唱歌跳舞、、、写歌、，、看、动漫、，、宅舞、，、cosplay、、、听歌、，、看、电影、，、看剧、，、跳舞、、'"
      ]
     },
     "execution_count": 86,
     "metadata": {},
     "output_type": "execute_result"
    }
   ],
   "source": [
    "import jieba\n",
    "\n",
    "hobby = ''\n",
    "for i in group['爱好']:\n",
    "    hobby += i\n",
    "    hobby += '、'\n",
    "\n",
    "'、'.join(jieba.cut(hobby))"
   ]
  },
  {
   "cell_type": "code",
   "execution_count": 5,
   "metadata": {
    "collapsed": false
   },
   "outputs": [],
   "source": [
    "from mpl_toolkits.basemap import Basemap\n",
    "from matplotlib.patches import Polygon\n",
    "from matplotlib.colors import rgb2hex"
   ]
  },
  {
   "cell_type": "code",
   "execution_count": null,
   "metadata": {
    "collapsed": false
   },
   "outputs": [],
   "source": [
    "plt.figure()\n",
    "m = Basemap(llcrnrlon=77, llcrnrlat=14, urcrnrlon=140, urcrnrlat=51,projection='lcc',lat_1=33, lat_2=45, lon_0=100)\n",
    "m.drawcountries(linewidth=1.5)\n",
    "m.drawcoastlines()\n",
    "\n",
    "m.readshapefile('/Users/thesuguser/Desktop/Personal_project/SNH48_member/CHN_adm_shp/CHN_adm1','states',drawbounds=True)\n",
    "\n",
    "plt.show()"
   ]
  },
  {
   "cell_type": "code",
   "execution_count": null,
   "metadata": {
    "collapsed": false
   },
   "outputs": [],
   "source": []
  },
  {
   "cell_type": "code",
   "execution_count": null,
   "metadata": {
    "collapsed": true
   },
   "outputs": [],
   "source": []
  }
 ],
 "metadata": {
  "kernelspec": {
   "display_name": "Python 3",
   "language": "python",
   "name": "python3"
  },
  "language_info": {
   "codemirror_mode": {
    "name": "ipython",
    "version": 3
   },
   "file_extension": ".py",
   "mimetype": "text/x-python",
   "name": "python",
   "nbconvert_exporter": "python",
   "pygments_lexer": "ipython3",
   "version": "3.5.2"
  }
 },
 "nbformat": 4,
 "nbformat_minor": 0
}
